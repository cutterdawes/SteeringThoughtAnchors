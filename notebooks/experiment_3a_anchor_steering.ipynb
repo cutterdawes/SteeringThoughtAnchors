{
 "cells": [
  {
   "cell_type": "markdown",
   "metadata": {},
   "source": [
    "# Experiment 3a: Steering at Thought Anchors (KL vs. beta)\n",
    "\n",
    "This notebook loads:\n",
    "- an annotated example with a thought anchor,\n",
    "- the corresponding steering vector computed in `experiments/find_steering_vectors.py`,\n",
    "\n",
    "and measures how the next-token distribution changes when we steer activations\n",
    "at the layer and position just before the anchor sentence. We sweep steering amplitude\n",
    "`beta` in [-1, 1] and compute KL divergence vs. the unsteered baseline."
   ]
  },
  {
   "cell_type": "code",
   "execution_count": 32,
   "id": "47599d69",
   "metadata": {},
   "outputs": [
    {
     "data": {
      "text/plain": [
       "'mps'"
      ]
     },
     "execution_count": 32,
     "metadata": {},
     "output_type": "execute_result"
    }
   ],
   "source": [
    "import os, json, math\n",
    "from typing import List, Dict\n",
    "\n",
    "import torch\n",
    "import numpy as np\n",
    "import matplotlib.pyplot as plt\n",
    "\n",
    "import sys\n",
    "sys.path.append(os.path.abspath(os.path.join(os.path.dirname('__file__'), '..')))\n",
    "from utils import load_model_and_vectors, split_solution_into_chunks\n",
    "\n",
    "device = 'mps' if torch.backends.mps.is_available() else 'cpu'\n",
    "device"
   ]
  },
  {
   "cell_type": "code",
   "execution_count": 33,
   "id": "1f799857",
   "metadata": {},
   "outputs": [
    {
     "data": {
      "text/plain": [
       "array([-10. ,  -7.5,  -5. ,  -2.5,   0. ,   2.5,   5. ,   7.5,  10. ])"
      ]
     },
     "execution_count": 33,
     "metadata": {},
     "output_type": "execute_result"
    }
   ],
   "source": [
    "# Config\n",
    "model_name = 'deepseek-ai/DeepSeek-R1-Distill-Qwen-1.5B'\n",
    "model_tag = model_name.replace('/', '-')\n",
    "from pathlib import Path\n",
    "# Find repo root by searching upwards for 'generated_data' (fallback: cwd)\n",
    "cwd = Path.cwd()\n",
    "repo_root = next((p for p in [cwd] + list(cwd.parents) if (p / 'generated_data').exists()), cwd)\n",
    "# Build absolute paths to the generated_data files\n",
    "annotated_path = repo_root / 'generated_data' / f'generated_data_annotated_{model_tag}.json'\n",
    "vectors_path = repo_root / 'generated_data' / f'steering_vectors_{model_tag}.json'\n",
    "example_index = 0  # change to pick a different example\n",
    "\n",
    "# Steering amplitudes to test\n",
    "betas = np.linspace(-10.0, 10.0, 9)  # [-1, -0.75, ..., 0.75, 1]\n",
    "betas"
   ]
  },
  {
   "cell_type": "code",
   "execution_count": 34,
   "id": "84a3d551",
   "metadata": {},
   "outputs": [
    {
     "name": "stdout",
     "output_type": "stream",
     "text": [
      "No mean vectors found for deepseek-ai/DeepSeek-R1-Distill-Qwen-1.5B. You can save to generated_data/mean_vectors_deepseek-r1-distill-qwen-1.5b.pt.\n"
     ]
    },
    {
     "data": {
      "text/plain": [
       "(1, 1)"
      ]
     },
     "execution_count": 34,
     "metadata": {},
     "output_type": "execute_result"
    }
   ],
   "source": [
    "# Load model/tokenizer\n",
    "model, tokenizer, _ = load_model_and_vectors(model_name=model_name, compute_features=False, device=device)\n",
    "model.model.eval()\n",
    "\n",
    "# Load data\n",
    "with open(annotated_path, 'r') as f:\n",
    "    annotated = json.load(f)\n",
    "with open(vectors_path, 'r') as f:\n",
    "    vectors_payload = json.load(f)\n",
    "len(annotated), len(vectors_payload.get('vectors', []))"
   ]
  },
  {
   "cell_type": "code",
   "execution_count": 35,
   "id": "9e9bea2e",
   "metadata": {},
   "outputs": [
    {
     "data": {
      "text/plain": [
       "(1536,\n",
       " 27,\n",
       " 0,\n",
       " 'Okay, so I need to figure out how many vertical asymptotes the graph of \\\\( y = \\\\...')"
      ]
     },
     "execution_count": 35,
     "metadata": {},
     "output_type": "execute_result"
    }
   ],
   "source": [
    "# Select example and matching steering vector\n",
    "ex = None\n",
    "vec = None\n",
    "# Take the same index if available; fallback: first vector\n",
    "if example_index < len(annotated):\n",
    "    ex = annotated[example_index]\n",
    "if vectors_payload.get('vectors'):\n",
    "    vi = min(example_index, len(vectors_payload['vectors'])-1)\n",
    "    vec = vectors_payload['vectors'][vi]\n",
    "\n",
    "question = ex['prompt']\n",
    "cot = ex['cot']\n",
    "anchor_idx = ex.get('thought_anchor_idx', None)\n",
    "anchor_sentence = ex.get('thought_anchor_sentence', '')\n",
    "layer_idx = vec['layer']\n",
    "steer_vector = torch.tensor(vec['vector'], dtype=torch.bfloat16 if model.model.dtype==torch.bfloat16 else torch.float32, device=device)\n",
    "len(steer_vector), layer_idx, anchor_idx, anchor_sentence[:80] + ('...' if len(anchor_sentence)>80 else '')"
   ]
  },
  {
   "cell_type": "code",
   "execution_count": 36,
   "id": "ed8832cd",
   "metadata": {},
   "outputs": [
    {
     "data": {
      "text/plain": [
       "(torch.Size([1, 52]),\n",
       " torch.Size([1, 52]),\n",
       " tensor([  1939,  36842,    510, 151648,    198], device='mps:0'))"
      ]
     },
     "execution_count": 36,
     "metadata": {},
     "output_type": "execute_result"
    }
   ],
   "source": [
    "# Build the prefix up to (but not including) the anchor sentence\n",
    "chunks = split_solution_into_chunks(cot)\n",
    "if anchor_idx is None or anchor_idx < 0 or anchor_idx >= len(chunks):\n",
    "    # fallback: find sentence match\n",
    "    try:\n",
    "        anchor_idx = next((i for i,s in enumerate(chunks) if s.strip()==anchor_sentence.strip()), 0)\n",
    "    except Exception:\n",
    "        anchor_idx = 0\n",
    "prefix_text = '\\n'.join(chunks[:anchor_idx])\n",
    "\n",
    "prompt = (\n",
    "    \"Solve the following problem step by step. You MUST put your final answer in \\\\boxed{}.\\n\\n\"\n",
    "    f\"Problem: {question}\\n\\n\"\n",
    "    f\"Solution:\\n<think>\\n{prefix_text}\"\n",
    ")\n",
    "ids = tokenizer(prompt, return_tensors='pt')\n",
    "input_ids = ids['input_ids'].to(device)\n",
    "pad_id = tokenizer.pad_token_id if tokenizer.pad_token_id is not None else (tokenizer.eos_token_id or 0)\n",
    "attention_mask = (input_ids != pad_id).long().to(device)\n",
    "input_ids.shape, attention_mask.shape, input_ids[0, -5:]"
   ]
  },
  {
   "cell_type": "code",
   "execution_count": 37,
   "id": "3143e210",
   "metadata": {},
   "outputs": [
    {
     "data": {
      "text/plain": [
       "torch.Size([1, 151936])"
      ]
     },
     "execution_count": 37,
     "metadata": {},
     "output_type": "execute_result"
    }
   ],
   "source": [
    "@torch.no_grad()\n",
    "def _forward_with_logits(input_ids, attention_mask):\n",
    "    # Try to get logits; if the called path returns only hidden states, project via lm_head\n",
    "    outputs = model.model(input_ids=input_ids, attention_mask=attention_mask, use_cache=False, output_hidden_states=True, return_dict=True)\n",
    "    logits = getattr(outputs, 'logits', None)\n",
    "    if logits is None:\n",
    "        last_hidden = outputs.last_hidden_state if hasattr(outputs, 'last_hidden_state') else outputs[0]\n",
    "        # Resolve the lm_head either on the top-level or on the causal LM module\n",
    "        head_owner = model if hasattr(model, 'lm_head') else (model.model if hasattr(model.model, 'lm_head') else None)\n",
    "        if head_owner is None:\n",
    "            raise AttributeError('Could not find lm_head on model or model.model')\n",
    "        logits = head_owner.lm_head(last_hidden)\n",
    "    return logits\n",
    "\n",
    "@torch.no_grad()\n",
    "def logits_with_steer(beta: float):\n",
    "    handle = None\n",
    "    # steer vector shaped to [1,1,H]\n",
    "    delta = (beta * steer_vector).to(model.model.dtype).unsqueeze(0).unsqueeze(0)\n",
    "    # Resolve target layer path robustly: prefer model.model.model.layers, else model.model.layers\n",
    "    backbone = getattr(model.model, 'model', model.model)\n",
    "    target = backbone.layers[layer_idx]\n",
    "    def hook(module, inputs, output):\n",
    "        out = output\n",
    "        try:\n",
    "            if isinstance(out, tuple):\n",
    "                h = out[0]\n",
    "                h = h.clone()\n",
    "                h[:, -1:, :] = h[:, -1:, :] + delta\n",
    "                return (h,) + out[1:]\n",
    "            else:\n",
    "                h = out.clone()\n",
    "                h[:, -1:, :] = h[:, -1:, :] + delta\n",
    "                return h\n",
    "        except Exception:\n",
    "            return output\n",
    "    handle = target.register_forward_hook(hook)\n",
    "    try:\n",
    "        logits = _forward_with_logits(input_ids, attention_mask)\n",
    "        return logits[:, -1, :]\n",
    "    finally:\n",
    "        if handle is not None:\n",
    "            handle.remove()\n",
    "\n",
    "@torch.no_grad()\n",
    "def logits_base():\n",
    "    logits = _forward_with_logits(input_ids, attention_mask)\n",
    "    return logits[:, -1, :]\n",
    "\n",
    "base_logits = logits_base()\n",
    "base_probs = torch.softmax(base_logits, dim=-1)\n",
    "base_probs.shape\n"
   ]
  },
  {
   "cell_type": "code",
   "execution_count": 38,
   "metadata": {},
   "outputs": [
    {
     "data": {
      "text/plain": [
       "[-9.1552734375e-05,\n",
       " -6.079673767089844e-05,\n",
       " 0.00106048583984375,\n",
       " 1.996755599975586e-06,\n",
       " 0.0,\n",
       " 0.00118255615234375,\n",
       " 0.000278472900390625,\n",
       " 0.00013828277587890625,\n",
       " 0.00135040283203125]"
      ]
     },
     "execution_count": 38,
     "metadata": {},
     "output_type": "execute_result"
    }
   ],
   "source": [
    "def kl_divergence(p: torch.Tensor, q: torch.Tensor, eps: float = 1e-9):\n",
    "    # D_KL(p || q) over last dim\n",
    "    p = torch.clamp(p, min=eps)\n",
    "    q = torch.clamp(q, min=eps)\n",
    "    return torch.sum(p * (torch.log(p) - torch.log(q)), dim=-1)\n",
    "\n",
    "kl_values = []\n",
    "for b in betas:\n",
    "    if abs(b) < 1e-12:\n",
    "        kl = torch.tensor([0.0])\n",
    "    else:\n",
    "        logits_b = logits_with_steer(float(b))\n",
    "        probs_b = torch.softmax(logits_b, dim=-1)\n",
    "        kl = kl_divergence(probs_b, base_probs)  # KL(steered || base)\n",
    "    kl_values.append(float(kl.item()))\n",
    "kl_values"
   ]
  },
  {
   "cell_type": "code",
   "execution_count": 39,
   "metadata": {},
   "outputs": [
    {
     "data": {
      "image/png": "[encoded data removed]",
      "text/plain": [
       "<Figure size 600x400 with 1 Axes>"
      ]
     },
     "metadata": {},
     "output_type": "display_data"
    }
   ],
   "source": [
    "plt.figure(figsize=(6,4))\n",
    "plt.plot(betas, kl_values, marker='o')\n",
    "plt.axhline(0, color='gray', lw=0.5)\n",
    "plt.title('KL(steered || base) at anchor prefix vs beta')\n",
    "plt.xlabel('beta')\n",
    "plt.ylabel('KL divergence')\n",
    "plt.grid(True, alpha=0.3)\n",
    "plt.show()"
   ]
  }
 ],
 "metadata": {
  "kernelspec": {
   "display_name": "anchorsteering",
   "language": "python",
   "name": "python3"
  },
  "language_info": {
   "codemirror_mode": {
    "name": "ipython",
    "version": 3
   },
   "file_extension": ".py",
   "mimetype": "text/x-python",
   "name": "python",
   "nbconvert_exporter": "python",
   "pygments_lexer": "ipython3",
   "version": "3.10.18"
  }
 },
 "nbformat": 4,
 "nbformat_minor": 5
}

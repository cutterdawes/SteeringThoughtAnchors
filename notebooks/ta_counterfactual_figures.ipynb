{
 "cells": [
  {
   "cell_type": "markdown",
   "metadata": {},
   "source": [
    "# Thought Anchors Figure Replication: Per-Chunk Counterfactual Metrics\n",
    "\n",
    "This notebook generates per-example figures similar to those in the Thought Anchors paper,\n",
    "plotting the counterfactual accuracies and importance (KL) per chunk.\n",
    "It consumes the annotated dataset produced by `experiments/annotate_data.py`.\n"
   ]
  },
  {
   "cell_type": "code",
   "execution_count": null,
   "metadata": {},
   "outputs": [],
   "source": [
    "import os, json, pathlib\n",
    "import matplotlib.pyplot as plt\n",
    "import numpy as np\n",
    "from datetime import datetime\n",
    "\n",
    "# Parameters\n",
    "model_name = 'deepseek-ai/DeepSeek-R1-Distill-Qwen-1.5B'\n",
    "max_examples = 24   # number of examples to render\n",
    "save_figs = True\n",
    "show_figs = False   # set True to display inline if running interactively\n",
    "figsize = (8, 4)\n",
    "\n",
    "# Paths (respect repo layout)\n",
    "repo_root = pathlib.Path.cwd().resolve().parents[0] if (pathlib.Path.cwd() / 'notebooks').exists() else pathlib.Path.cwd().resolve()\n",
    "model_tag = model_name.replace('/', '-')\n",
    "annotated_path = repo_root / 'generated_data' / f'generated_data_annotated_{model_tag}.json'\n",
    "out_dir = repo_root / 'generated_data' / 'figures' / 'ta_per_chunk'\n",
    "out_dir.mkdir(parents=True, exist_ok=True)\n",
    "annotated_path\n"
   ]
  },
  {
   "cell_type": "code",
   "execution_count": null,
   "metadata": {},
   "outputs": [],
   "source": [
    "# Load annotated data\n",
    "assert annotated_path.exists(), f'Missing annotated dataset: {annotated_path}'\n",
    "with open(annotated_path, 'r') as f:\n",
    "    data = json.load(f)\n",
    "# Keep only entries that contain the required fields\n",
    "examples = [d for d in data if isinstance(d.get('counterfactual_accuracies'), list) and isinstance(d.get('counterfactual_importance_kl'), list)]\n",
    "if max_examples is not None:\n",
    "    examples = examples[:max_examples]\n",
    "len(examples)\n"
   ]
  },
  {
   "cell_type": "code",
   "execution_count": null,
   "metadata": {},
   "outputs": [],
   "source": [
    "plt.style.use('seaborn-v0_8-whitegrid')\n",
    "rendered = 0\n",
    "for i, ex in enumerate(examples, start=1):\n",
    "    acc = ex.get('counterfactual_accuracies', [])\n",
    "    kls = ex.get('counterfactual_importance_kl', [])\n",
    "    anchor_idx = ex.get('thought_anchor_idx', None)\n",
    "    base_acc = ex.get('baseline_accuracy', None)\n",
    "    prompt_preview = (ex.get('prompt','') or '').replace('\n',' ')\n",
    "    if len(prompt_preview) > 100:\n",
    "        prompt_preview = prompt_preview[:100] + '...'\n",
    "\n",
    "    x = np.arange(max(len(acc), len(kls)))\n",
    "    fig, axes = plt.subplots(1, 2, figsize=figsize, sharex=True)\n",
    "\n",
    "    # Left: accuracy per chunk\n",
    "    axes[0].plot(x[:len(acc)], acc, marker='o', color='#1f77b4', label='CF accuracy')\n",
    "    if base_acc is not None:\n",
    "        axes[0].axhline(base_acc, linestyle='--', color='gray', alpha=0.7, label='baseline')\n",
    "    if anchor_idx is not None and 0 <= anchor_idx < len(acc):\n",
    "        axes[0].axvline(anchor_idx, color='red', alpha=0.3)\n",
    "        axes[0].scatter([anchor_idx], [acc[anchor_idx]], color='red', zorder=3)\n",
    "    axes[0].set_title('Counterfactual accuracy per chunk')\n",
    "    axes[0].set_xlabel('chunk index')\n",
    "    axes[0].set_ylabel('accuracy')\n",
    "    axes[0].set_ylim(-0.05, 1.05)\n",
    "    axes[0].legend(loc='lower right')\n",
    "\n",
    "    # Right: importance KL per chunk\n",
    "    axes[1].plot(x[:len(kls)], kls, marker='o', color='#ff7f0e', label='importance KL')\n",
    "    if anchor_idx is not None and 0 <= anchor_idx < len(kls):\n",
    "        axes[1].axvline(anchor_idx, color='red', alpha=0.3)\n",
    "        axes[1].scatter([anchor_idx], [kls[anchor_idx]], color='red', zorder=3)\n",
    "    axes[1].set_title('Counterfactual importance (KL) per chunk')\n",
    "    axes[1].set_xlabel('chunk index')\n",
    "    axes[1].set_ylabel('KL (dissimilar vs comparator)')\n",
    "\n",
    "    fig.suptitle(f'Example {i}: anchor={anchor_idx} | {prompt_preview}', y=1.02)\n",
    "    fig.tight_layout()\n",
    "\n",
    "    if save_figs:\n",
    "        fname = out_dir / f'ta_per_chunk_ex{i:03d}.png'\n",
    "        fig.savefig(fname, dpi=150, bbox_inches='tight')\n",
    "    if show_figs:\n",
    "        plt.show()\n",
    "    else:\n",
    "        plt.close(fig)\n",
    "    rendered += 1\n",
    "\n",
    "rendered\n"
   ]
  }
 ],
 "metadata": {
  "kernelspec": {
   "display_name": "Python 3",
   "language": "python",
   "name": "python3"
  },
  "language_info": {
   "name": "python",
   "version": "3.10"
  }
 },
 "nbformat": 4,
 "nbformat_minor": 5
}

